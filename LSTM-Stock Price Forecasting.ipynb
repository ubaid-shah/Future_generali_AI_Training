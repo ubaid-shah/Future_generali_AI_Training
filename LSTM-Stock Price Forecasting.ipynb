{
 "cells": [
  {
   "cell_type": "markdown",
   "id": "755ce00e",
   "metadata": {},
   "source": [
    "# Time Series Analysis of Wine Sales data Using LSTM"
   ]
  },
  {
   "cell_type": "code",
   "execution_count": 1,
   "id": "cfc19624",
   "metadata": {},
   "outputs": [],
   "source": [
    "# ! pip install tensorflow==2.10"
   ]
  },
  {
   "cell_type": "code",
   "execution_count": 2,
   "id": "fb4bcd80",
   "metadata": {},
   "outputs": [],
   "source": [
    "# ! pip install yfinance"
   ]
  },
  {
   "cell_type": "code",
   "execution_count": 3,
   "id": "ebcb9547",
   "metadata": {},
   "outputs": [],
   "source": [
    "import pandas as pd\n",
    "import numpy as np\n",
    "import matplotlib.pyplot as plt\n",
    "# import cufflinks as cf\n",
    "import yfinance as yf\n",
    "\n",
    "import tensorflow as tf"
   ]
  },
  {
   "cell_type": "code",
   "execution_count": 4,
   "id": "8efddd3a",
   "metadata": {},
   "outputs": [
    {
     "name": "stdout",
     "output_type": "stream",
     "text": [
      "[*********************100%%**********************]  1 of 1 completed\n"
     ]
    },
    {
     "data": {
      "text/html": [
       "<div>\n",
       "<style scoped>\n",
       "    .dataframe tbody tr th:only-of-type {\n",
       "        vertical-align: middle;\n",
       "    }\n",
       "\n",
       "    .dataframe tbody tr th {\n",
       "        vertical-align: top;\n",
       "    }\n",
       "\n",
       "    .dataframe thead th {\n",
       "        text-align: right;\n",
       "    }\n",
       "</style>\n",
       "<table border=\"1\" class=\"dataframe\">\n",
       "  <thead>\n",
       "    <tr style=\"text-align: right;\">\n",
       "      <th></th>\n",
       "      <th>Open</th>\n",
       "      <th>High</th>\n",
       "      <th>Low</th>\n",
       "      <th>Close</th>\n",
       "      <th>Adj Close</th>\n",
       "      <th>Volume</th>\n",
       "    </tr>\n",
       "    <tr>\n",
       "      <th>Date</th>\n",
       "      <th></th>\n",
       "      <th></th>\n",
       "      <th></th>\n",
       "      <th></th>\n",
       "      <th></th>\n",
       "      <th></th>\n",
       "    </tr>\n",
       "  </thead>\n",
       "  <tbody>\n",
       "    <tr>\n",
       "      <th>1996-01-01</th>\n",
       "      <td>15.859429</td>\n",
       "      <td>15.944529</td>\n",
       "      <td>15.754989</td>\n",
       "      <td>15.917452</td>\n",
       "      <td>10.441108</td>\n",
       "      <td>48051995</td>\n",
       "    </tr>\n",
       "    <tr>\n",
       "      <th>1996-01-02</th>\n",
       "      <td>15.878770</td>\n",
       "      <td>15.956133</td>\n",
       "      <td>15.677626</td>\n",
       "      <td>15.793671</td>\n",
       "      <td>10.359910</td>\n",
       "      <td>77875009</td>\n",
       "    </tr>\n",
       "    <tr>\n",
       "      <th>1996-01-03</th>\n",
       "      <td>16.052837</td>\n",
       "      <td>16.783918</td>\n",
       "      <td>15.878770</td>\n",
       "      <td>15.913584</td>\n",
       "      <td>10.438572</td>\n",
       "      <td>96602936</td>\n",
       "    </tr>\n",
       "    <tr>\n",
       "      <th>1996-01-04</th>\n",
       "      <td>15.762726</td>\n",
       "      <td>15.813012</td>\n",
       "      <td>15.553845</td>\n",
       "      <td>15.766594</td>\n",
       "      <td>10.342155</td>\n",
       "      <td>100099436</td>\n",
       "    </tr>\n",
       "    <tr>\n",
       "      <th>1996-01-05</th>\n",
       "      <td>15.704703</td>\n",
       "      <td>15.704703</td>\n",
       "      <td>15.522900</td>\n",
       "      <td>15.658285</td>\n",
       "      <td>10.271107</td>\n",
       "      <td>76935930</td>\n",
       "    </tr>\n",
       "  </tbody>\n",
       "</table>\n",
       "</div>"
      ],
      "text/plain": [
       "                 Open       High        Low      Close  Adj Close     Volume\n",
       "Date                                                                        \n",
       "1996-01-01  15.859429  15.944529  15.754989  15.917452  10.441108   48051995\n",
       "1996-01-02  15.878770  15.956133  15.677626  15.793671  10.359910   77875009\n",
       "1996-01-03  16.052837  16.783918  15.878770  15.913584  10.438572   96602936\n",
       "1996-01-04  15.762726  15.813012  15.553845  15.766594  10.342155  100099436\n",
       "1996-01-05  15.704703  15.704703  15.522900  15.658285  10.271107   76935930"
      ]
     },
     "execution_count": 4,
     "metadata": {},
     "output_type": "execute_result"
    }
   ],
   "source": [
    "df=yf.download('RELIANCE.NS')\n",
    "df.head()"
   ]
  },
  {
   "cell_type": "code",
   "execution_count": 5,
   "id": "d73929e7",
   "metadata": {
    "scrolled": false
   },
   "outputs": [
    {
     "data": {
      "text/html": [
       "<div>\n",
       "<style scoped>\n",
       "    .dataframe tbody tr th:only-of-type {\n",
       "        vertical-align: middle;\n",
       "    }\n",
       "\n",
       "    .dataframe tbody tr th {\n",
       "        vertical-align: top;\n",
       "    }\n",
       "\n",
       "    .dataframe thead th {\n",
       "        text-align: right;\n",
       "    }\n",
       "</style>\n",
       "<table border=\"1\" class=\"dataframe\">\n",
       "  <thead>\n",
       "    <tr style=\"text-align: right;\">\n",
       "      <th></th>\n",
       "      <th>Open</th>\n",
       "      <th>High</th>\n",
       "      <th>Low</th>\n",
       "      <th>Close</th>\n",
       "      <th>Adj Close</th>\n",
       "      <th>Volume</th>\n",
       "    </tr>\n",
       "    <tr>\n",
       "      <th>Date</th>\n",
       "      <th></th>\n",
       "      <th></th>\n",
       "      <th></th>\n",
       "      <th></th>\n",
       "      <th></th>\n",
       "      <th></th>\n",
       "    </tr>\n",
       "  </thead>\n",
       "  <tbody>\n",
       "    <tr>\n",
       "      <th>1996-01-01</th>\n",
       "      <td>15.859429</td>\n",
       "      <td>15.944529</td>\n",
       "      <td>15.754989</td>\n",
       "      <td>15.917452</td>\n",
       "      <td>10.441108</td>\n",
       "      <td>48051995</td>\n",
       "    </tr>\n",
       "    <tr>\n",
       "      <th>1996-01-02</th>\n",
       "      <td>15.878770</td>\n",
       "      <td>15.956133</td>\n",
       "      <td>15.677626</td>\n",
       "      <td>15.793671</td>\n",
       "      <td>10.359910</td>\n",
       "      <td>77875009</td>\n",
       "    </tr>\n",
       "    <tr>\n",
       "      <th>1996-01-03</th>\n",
       "      <td>16.052837</td>\n",
       "      <td>16.783918</td>\n",
       "      <td>15.878770</td>\n",
       "      <td>15.913584</td>\n",
       "      <td>10.438572</td>\n",
       "      <td>96602936</td>\n",
       "    </tr>\n",
       "    <tr>\n",
       "      <th>1996-01-04</th>\n",
       "      <td>15.762726</td>\n",
       "      <td>15.813012</td>\n",
       "      <td>15.553845</td>\n",
       "      <td>15.766594</td>\n",
       "      <td>10.342155</td>\n",
       "      <td>100099436</td>\n",
       "    </tr>\n",
       "    <tr>\n",
       "      <th>1996-01-05</th>\n",
       "      <td>15.704703</td>\n",
       "      <td>15.704703</td>\n",
       "      <td>15.522900</td>\n",
       "      <td>15.658285</td>\n",
       "      <td>10.271107</td>\n",
       "      <td>76935930</td>\n",
       "    </tr>\n",
       "  </tbody>\n",
       "</table>\n",
       "</div>"
      ],
      "text/plain": [
       "                 Open       High        Low      Close  Adj Close     Volume\n",
       "Date                                                                        \n",
       "1996-01-01  15.859429  15.944529  15.754989  15.917452  10.441108   48051995\n",
       "1996-01-02  15.878770  15.956133  15.677626  15.793671  10.359910   77875009\n",
       "1996-01-03  16.052837  16.783918  15.878770  15.913584  10.438572   96602936\n",
       "1996-01-04  15.762726  15.813012  15.553845  15.766594  10.342155  100099436\n",
       "1996-01-05  15.704703  15.704703  15.522900  15.658285  10.271107   76935930"
      ]
     },
     "execution_count": 5,
     "metadata": {},
     "output_type": "execute_result"
    }
   ],
   "source": [
    "df.head()"
   ]
  },
  {
   "cell_type": "code",
   "execution_count": 6,
   "id": "43f5ba83",
   "metadata": {
    "scrolled": true
   },
   "outputs": [
    {
     "data": {
      "text/html": [
       "<div>\n",
       "<style scoped>\n",
       "    .dataframe tbody tr th:only-of-type {\n",
       "        vertical-align: middle;\n",
       "    }\n",
       "\n",
       "    .dataframe tbody tr th {\n",
       "        vertical-align: top;\n",
       "    }\n",
       "\n",
       "    .dataframe thead th {\n",
       "        text-align: right;\n",
       "    }\n",
       "</style>\n",
       "<table border=\"1\" class=\"dataframe\">\n",
       "  <thead>\n",
       "    <tr style=\"text-align: right;\">\n",
       "      <th></th>\n",
       "      <th>Open</th>\n",
       "      <th>High</th>\n",
       "      <th>Low</th>\n",
       "      <th>Close</th>\n",
       "      <th>Adj Close</th>\n",
       "      <th>Volume</th>\n",
       "    </tr>\n",
       "    <tr>\n",
       "      <th>Date</th>\n",
       "      <th></th>\n",
       "      <th></th>\n",
       "      <th></th>\n",
       "      <th></th>\n",
       "      <th></th>\n",
       "      <th></th>\n",
       "    </tr>\n",
       "  </thead>\n",
       "  <tbody>\n",
       "    <tr>\n",
       "      <th>2023-10-20</th>\n",
       "      <td>2300.000000</td>\n",
       "      <td>2314.699951</td>\n",
       "      <td>2296.300049</td>\n",
       "      <td>2299.100098</td>\n",
       "      <td>2299.100098</td>\n",
       "      <td>4456656</td>\n",
       "    </tr>\n",
       "    <tr>\n",
       "      <th>2023-10-23</th>\n",
       "      <td>2290.000000</td>\n",
       "      <td>2306.250000</td>\n",
       "      <td>2255.250000</td>\n",
       "      <td>2263.199951</td>\n",
       "      <td>2263.199951</td>\n",
       "      <td>3926981</td>\n",
       "    </tr>\n",
       "    <tr>\n",
       "      <th>2023-10-25</th>\n",
       "      <td>2250.050049</td>\n",
       "      <td>2281.199951</td>\n",
       "      <td>2243.000000</td>\n",
       "      <td>2257.949951</td>\n",
       "      <td>2257.949951</td>\n",
       "      <td>5810344</td>\n",
       "    </tr>\n",
       "    <tr>\n",
       "      <th>2023-10-26</th>\n",
       "      <td>2251.000000</td>\n",
       "      <td>2258.000000</td>\n",
       "      <td>2220.300049</td>\n",
       "      <td>2226.500000</td>\n",
       "      <td>2226.500000</td>\n",
       "      <td>7611267</td>\n",
       "    </tr>\n",
       "    <tr>\n",
       "      <th>2023-10-27</th>\n",
       "      <td>2240.000000</td>\n",
       "      <td>2273.500000</td>\n",
       "      <td>2235.949951</td>\n",
       "      <td>2265.800049</td>\n",
       "      <td>2265.800049</td>\n",
       "      <td>5880801</td>\n",
       "    </tr>\n",
       "  </tbody>\n",
       "</table>\n",
       "</div>"
      ],
      "text/plain": [
       "                   Open         High          Low        Close    Adj Close  \\\n",
       "Date                                                                          \n",
       "2023-10-20  2300.000000  2314.699951  2296.300049  2299.100098  2299.100098   \n",
       "2023-10-23  2290.000000  2306.250000  2255.250000  2263.199951  2263.199951   \n",
       "2023-10-25  2250.050049  2281.199951  2243.000000  2257.949951  2257.949951   \n",
       "2023-10-26  2251.000000  2258.000000  2220.300049  2226.500000  2226.500000   \n",
       "2023-10-27  2240.000000  2273.500000  2235.949951  2265.800049  2265.800049   \n",
       "\n",
       "             Volume  \n",
       "Date                 \n",
       "2023-10-20  4456656  \n",
       "2023-10-23  3926981  \n",
       "2023-10-25  5810344  \n",
       "2023-10-26  7611267  \n",
       "2023-10-27  5880801  "
      ]
     },
     "execution_count": 6,
     "metadata": {},
     "output_type": "execute_result"
    }
   ],
   "source": [
    "df.tail()"
   ]
  },
  {
   "cell_type": "code",
   "execution_count": 7,
   "id": "6c5ec054",
   "metadata": {},
   "outputs": [],
   "source": [
    "df1=pd.DataFrame(df.Close)"
   ]
  },
  {
   "cell_type": "code",
   "execution_count": 8,
   "id": "e8e3774a",
   "metadata": {},
   "outputs": [
    {
     "data": {
      "text/html": [
       "<div>\n",
       "<style scoped>\n",
       "    .dataframe tbody tr th:only-of-type {\n",
       "        vertical-align: middle;\n",
       "    }\n",
       "\n",
       "    .dataframe tbody tr th {\n",
       "        vertical-align: top;\n",
       "    }\n",
       "\n",
       "    .dataframe thead th {\n",
       "        text-align: right;\n",
       "    }\n",
       "</style>\n",
       "<table border=\"1\" class=\"dataframe\">\n",
       "  <thead>\n",
       "    <tr style=\"text-align: right;\">\n",
       "      <th></th>\n",
       "      <th>Close</th>\n",
       "    </tr>\n",
       "    <tr>\n",
       "      <th>Date</th>\n",
       "      <th></th>\n",
       "    </tr>\n",
       "  </thead>\n",
       "  <tbody>\n",
       "    <tr>\n",
       "      <th>1996-01-01</th>\n",
       "      <td>15.917452</td>\n",
       "    </tr>\n",
       "    <tr>\n",
       "      <th>1996-01-02</th>\n",
       "      <td>15.793671</td>\n",
       "    </tr>\n",
       "    <tr>\n",
       "      <th>1996-01-03</th>\n",
       "      <td>15.913584</td>\n",
       "    </tr>\n",
       "    <tr>\n",
       "      <th>1996-01-04</th>\n",
       "      <td>15.766594</td>\n",
       "    </tr>\n",
       "    <tr>\n",
       "      <th>1996-01-05</th>\n",
       "      <td>15.658285</td>\n",
       "    </tr>\n",
       "    <tr>\n",
       "      <th>...</th>\n",
       "      <td>...</td>\n",
       "    </tr>\n",
       "    <tr>\n",
       "      <th>2023-10-20</th>\n",
       "      <td>2299.100098</td>\n",
       "    </tr>\n",
       "    <tr>\n",
       "      <th>2023-10-23</th>\n",
       "      <td>2263.199951</td>\n",
       "    </tr>\n",
       "    <tr>\n",
       "      <th>2023-10-25</th>\n",
       "      <td>2257.949951</td>\n",
       "    </tr>\n",
       "    <tr>\n",
       "      <th>2023-10-26</th>\n",
       "      <td>2226.500000</td>\n",
       "    </tr>\n",
       "    <tr>\n",
       "      <th>2023-10-27</th>\n",
       "      <td>2265.800049</td>\n",
       "    </tr>\n",
       "  </tbody>\n",
       "</table>\n",
       "<p>6993 rows × 1 columns</p>\n",
       "</div>"
      ],
      "text/plain": [
       "                  Close\n",
       "Date                   \n",
       "1996-01-01    15.917452\n",
       "1996-01-02    15.793671\n",
       "1996-01-03    15.913584\n",
       "1996-01-04    15.766594\n",
       "1996-01-05    15.658285\n",
       "...                 ...\n",
       "2023-10-20  2299.100098\n",
       "2023-10-23  2263.199951\n",
       "2023-10-25  2257.949951\n",
       "2023-10-26  2226.500000\n",
       "2023-10-27  2265.800049\n",
       "\n",
       "[6993 rows x 1 columns]"
      ]
     },
     "execution_count": 8,
     "metadata": {},
     "output_type": "execute_result"
    }
   ],
   "source": [
    "df1"
   ]
  },
  {
   "cell_type": "code",
   "execution_count": 74,
   "id": "189a75af",
   "metadata": {},
   "outputs": [
    {
     "data": {
      "image/png": "[encoded data removed]",
      "text/plain": [
       "<Figure size 640x480 with 1 Axes>"
      ]
     },
     "metadata": {},
     "output_type": "display_data"
    }
   ],
   "source": [
    "df1.iloc[2015:].plot();"
   ]
  },
  {
   "cell_type": "code",
   "execution_count": null,
   "id": "92ccff7d",
   "metadata": {},
   "outputs": [],
   "source": []
  },
  {
   "cell_type": "code",
   "execution_count": 10,
   "id": "74f2aebf",
   "metadata": {
    "scrolled": true
   },
   "outputs": [
    {
     "name": "stdout",
     "output_type": "stream",
     "text": [
      "<class 'pandas.core.frame.DataFrame'>\n",
      "DatetimeIndex: 6993 entries, 1996-01-01 to 2023-10-27\n",
      "Data columns (total 1 columns):\n",
      " #   Column  Non-Null Count  Dtype  \n",
      "---  ------  --------------  -----  \n",
      " 0   Close   6993 non-null   float64\n",
      "dtypes: float64(1)\n",
      "memory usage: 109.3 KB\n"
     ]
    }
   ],
   "source": [
    "df1.info()"
   ]
  },
  {
   "cell_type": "code",
   "execution_count": 11,
   "id": "5171fc65",
   "metadata": {},
   "outputs": [
    {
     "data": {
      "text/plain": [
       "6993"
      ]
     },
     "execution_count": 11,
     "metadata": {},
     "output_type": "execute_result"
    }
   ],
   "source": [
    "df1.size"
   ]
  },
  {
   "cell_type": "code",
   "execution_count": 12,
   "id": "84fe3280",
   "metadata": {
    "scrolled": false
   },
   "outputs": [],
   "source": [
    "dm=df1.size-5"
   ]
  },
  {
   "cell_type": "code",
   "execution_count": 75,
   "id": "07b58764",
   "metadata": {},
   "outputs": [
    {
     "data": {
      "text/plain": [
       "6988"
      ]
     },
     "execution_count": 75,
     "metadata": {},
     "output_type": "execute_result"
    }
   ],
   "source": [
    "dm"
   ]
  },
  {
   "cell_type": "code",
   "execution_count": 13,
   "id": "acf49f5c",
   "metadata": {},
   "outputs": [],
   "source": [
    "train=df1.iloc[:dm]\n",
    "test=df1.iloc[dm:]"
   ]
  },
  {
   "cell_type": "code",
   "execution_count": 14,
   "id": "8b0df9c0",
   "metadata": {},
   "outputs": [
    {
     "data": {
      "text/html": [
       "<div>\n",
       "<style scoped>\n",
       "    .dataframe tbody tr th:only-of-type {\n",
       "        vertical-align: middle;\n",
       "    }\n",
       "\n",
       "    .dataframe tbody tr th {\n",
       "        vertical-align: top;\n",
       "    }\n",
       "\n",
       "    .dataframe thead th {\n",
       "        text-align: right;\n",
       "    }\n",
       "</style>\n",
       "<table border=\"1\" class=\"dataframe\">\n",
       "  <thead>\n",
       "    <tr style=\"text-align: right;\">\n",
       "      <th></th>\n",
       "      <th>Close</th>\n",
       "    </tr>\n",
       "    <tr>\n",
       "      <th>Date</th>\n",
       "      <th></th>\n",
       "    </tr>\n",
       "  </thead>\n",
       "  <tbody>\n",
       "    <tr>\n",
       "      <th>1996-01-01</th>\n",
       "      <td>15.917452</td>\n",
       "    </tr>\n",
       "    <tr>\n",
       "      <th>1996-01-02</th>\n",
       "      <td>15.793671</td>\n",
       "    </tr>\n",
       "    <tr>\n",
       "      <th>1996-01-03</th>\n",
       "      <td>15.913584</td>\n",
       "    </tr>\n",
       "    <tr>\n",
       "      <th>1996-01-04</th>\n",
       "      <td>15.766594</td>\n",
       "    </tr>\n",
       "    <tr>\n",
       "      <th>1996-01-05</th>\n",
       "      <td>15.658285</td>\n",
       "    </tr>\n",
       "    <tr>\n",
       "      <th>...</th>\n",
       "      <td>...</td>\n",
       "    </tr>\n",
       "    <tr>\n",
       "      <th>2023-10-13</th>\n",
       "      <td>2349.300049</td>\n",
       "    </tr>\n",
       "    <tr>\n",
       "      <th>2023-10-16</th>\n",
       "      <td>2344.050049</td>\n",
       "    </tr>\n",
       "    <tr>\n",
       "      <th>2023-10-17</th>\n",
       "      <td>2355.250000</td>\n",
       "    </tr>\n",
       "    <tr>\n",
       "      <th>2023-10-18</th>\n",
       "      <td>2324.000000</td>\n",
       "    </tr>\n",
       "    <tr>\n",
       "      <th>2023-10-19</th>\n",
       "      <td>2306.149902</td>\n",
       "    </tr>\n",
       "  </tbody>\n",
       "</table>\n",
       "<p>6988 rows × 1 columns</p>\n",
       "</div>"
      ],
      "text/plain": [
       "                  Close\n",
       "Date                   \n",
       "1996-01-01    15.917452\n",
       "1996-01-02    15.793671\n",
       "1996-01-03    15.913584\n",
       "1996-01-04    15.766594\n",
       "1996-01-05    15.658285\n",
       "...                 ...\n",
       "2023-10-13  2349.300049\n",
       "2023-10-16  2344.050049\n",
       "2023-10-17  2355.250000\n",
       "2023-10-18  2324.000000\n",
       "2023-10-19  2306.149902\n",
       "\n",
       "[6988 rows x 1 columns]"
      ]
     },
     "execution_count": 14,
     "metadata": {},
     "output_type": "execute_result"
    }
   ],
   "source": [
    "train"
   ]
  },
  {
   "cell_type": "code",
   "execution_count": 15,
   "id": "586bd9d1",
   "metadata": {},
   "outputs": [
    {
     "data": {
      "text/plain": [
       "5"
      ]
     },
     "execution_count": 15,
     "metadata": {},
     "output_type": "execute_result"
    }
   ],
   "source": [
    "test.size"
   ]
  },
  {
   "cell_type": "code",
   "execution_count": 16,
   "id": "886e4f08",
   "metadata": {},
   "outputs": [
    {
     "data": {
      "text/html": [
       "<div>\n",
       "<style scoped>\n",
       "    .dataframe tbody tr th:only-of-type {\n",
       "        vertical-align: middle;\n",
       "    }\n",
       "\n",
       "    .dataframe tbody tr th {\n",
       "        vertical-align: top;\n",
       "    }\n",
       "\n",
       "    .dataframe thead th {\n",
       "        text-align: right;\n",
       "    }\n",
       "</style>\n",
       "<table border=\"1\" class=\"dataframe\">\n",
       "  <thead>\n",
       "    <tr style=\"text-align: right;\">\n",
       "      <th></th>\n",
       "      <th>Close</th>\n",
       "    </tr>\n",
       "    <tr>\n",
       "      <th>Date</th>\n",
       "      <th></th>\n",
       "    </tr>\n",
       "  </thead>\n",
       "  <tbody>\n",
       "    <tr>\n",
       "      <th>2023-10-20</th>\n",
       "      <td>2299.100098</td>\n",
       "    </tr>\n",
       "    <tr>\n",
       "      <th>2023-10-23</th>\n",
       "      <td>2263.199951</td>\n",
       "    </tr>\n",
       "    <tr>\n",
       "      <th>2023-10-25</th>\n",
       "      <td>2257.949951</td>\n",
       "    </tr>\n",
       "    <tr>\n",
       "      <th>2023-10-26</th>\n",
       "      <td>2226.500000</td>\n",
       "    </tr>\n",
       "    <tr>\n",
       "      <th>2023-10-27</th>\n",
       "      <td>2265.800049</td>\n",
       "    </tr>\n",
       "  </tbody>\n",
       "</table>\n",
       "</div>"
      ],
      "text/plain": [
       "                  Close\n",
       "Date                   \n",
       "2023-10-20  2299.100098\n",
       "2023-10-23  2263.199951\n",
       "2023-10-25  2257.949951\n",
       "2023-10-26  2226.500000\n",
       "2023-10-27  2265.800049"
      ]
     },
     "execution_count": 16,
     "metadata": {},
     "output_type": "execute_result"
    }
   ],
   "source": [
    "test"
   ]
  },
  {
   "cell_type": "code",
   "execution_count": 17,
   "id": "655a8606",
   "metadata": {},
   "outputs": [],
   "source": [
    "from sklearn.preprocessing import MinMaxScaler\n",
    "scaler=MinMaxScaler()"
   ]
  },
  {
   "cell_type": "code",
   "execution_count": 18,
   "id": "cd09839b",
   "metadata": {},
   "outputs": [
    {
     "data": {
      "text/html": [
       "<style>#sk-container-id-1 {color: black;background-color: white;}#sk-container-id-1 pre{padding: 0;}#sk-container-id-1 div.sk-toggleable {background-color: white;}#sk-container-id-1 label.sk-toggleable__label {cursor: pointer;display: block;width: 100%;margin-bottom: 0;padding: 0.3em;box-sizing: border-box;text-align: center;}#sk-container-id-1 label.sk-toggleable__label-arrow:before {content: \"▸\";float: left;margin-right: 0.25em;color: #696969;}#sk-container-id-1 label.sk-toggleable__label-arrow:hover:before {color: black;}#sk-container-id-1 div.sk-estimator:hover label.sk-toggleable__label-arrow:before {color: black;}#sk-container-id-1 div.sk-toggleable__content {max-height: 0;max-width: 0;overflow: hidden;text-align: left;background-color: #f0f8ff;}#sk-container-id-1 div.sk-toggleable__content pre {margin: 0.2em;color: black;border-radius: 0.25em;background-color: #f0f8ff;}#sk-container-id-1 input.sk-toggleable__control:checked~div.sk-toggleable__content {max-height: 200px;max-width: 100%;overflow: auto;}#sk-container-id-1 input.sk-toggleable__control:checked~label.sk-toggleable__label-arrow:before {content: \"▾\";}#sk-container-id-1 div.sk-estimator input.sk-toggleable__control:checked~label.sk-toggleable__label {background-color: #d4ebff;}#sk-container-id-1 div.sk-label input.sk-toggleable__control:checked~label.sk-toggleable__label {background-color: #d4ebff;}#sk-container-id-1 input.sk-hidden--visually {border: 0;clip: rect(1px 1px 1px 1px);clip: rect(1px, 1px, 1px, 1px);height: 1px;margin: -1px;overflow: hidden;padding: 0;position: absolute;width: 1px;}#sk-container-id-1 div.sk-estimator {font-family: monospace;background-color: #f0f8ff;border: 1px dotted black;border-radius: 0.25em;box-sizing: border-box;margin-bottom: 0.5em;}#sk-container-id-1 div.sk-estimator:hover {background-color: #d4ebff;}#sk-container-id-1 div.sk-parallel-item::after {content: \"\";width: 100%;border-bottom: 1px solid gray;flex-grow: 1;}#sk-container-id-1 div.sk-label:hover label.sk-toggleable__label {background-color: #d4ebff;}#sk-container-id-1 div.sk-serial::before {content: \"\";position: absolute;border-left: 1px solid gray;box-sizing: border-box;top: 0;bottom: 0;left: 50%;z-index: 0;}#sk-container-id-1 div.sk-serial {display: flex;flex-direction: column;align-items: center;background-color: white;padding-right: 0.2em;padding-left: 0.2em;position: relative;}#sk-container-id-1 div.sk-item {position: relative;z-index: 1;}#sk-container-id-1 div.sk-parallel {display: flex;align-items: stretch;justify-content: center;background-color: white;position: relative;}#sk-container-id-1 div.sk-item::before, #sk-container-id-1 div.sk-parallel-item::before {content: \"\";position: absolute;border-left: 1px solid gray;box-sizing: border-box;top: 0;bottom: 0;left: 50%;z-index: -1;}#sk-container-id-1 div.sk-parallel-item {display: flex;flex-direction: column;z-index: 1;position: relative;background-color: white;}#sk-container-id-1 div.sk-parallel-item:first-child::after {align-self: flex-end;width: 50%;}#sk-container-id-1 div.sk-parallel-item:last-child::after {align-self: flex-start;width: 50%;}#sk-container-id-1 div.sk-parallel-item:only-child::after {width: 0;}#sk-container-id-1 div.sk-dashed-wrapped {border: 1px dashed gray;margin: 0 0.4em 0.5em 0.4em;box-sizing: border-box;padding-bottom: 0.4em;background-color: white;}#sk-container-id-1 div.sk-label label {font-family: monospace;font-weight: bold;display: inline-block;line-height: 1.2em;}#sk-container-id-1 div.sk-label-container {text-align: center;}#sk-container-id-1 div.sk-container {/* jupyter's `normalize.less` sets `[hidden] { display: none; }` but bootstrap.min.css set `[hidden] { display: none !important; }` so we also need the `!important` here to be able to override the default hidden behavior on the sphinx rendered scikit-learn.org. See: https://github.com/scikit-learn/scikit-learn/issues/21755 */display: inline-block !important;position: relative;}#sk-container-id-1 div.sk-text-repr-fallback {display: none;}</style><div id=\"sk-container-id-1\" class=\"sk-top-container\"><div class=\"sk-text-repr-fallback\"><pre>MinMaxScaler()</pre><b>In a Jupyter environment, please rerun this cell to show the HTML representation or trust the notebook. <br />On GitHub, the HTML representation is unable to render, please try loading this page with nbviewer.org.</b></div><div class=\"sk-container\" hidden><div class=\"sk-item\"><div class=\"sk-estimator sk-toggleable\"><input class=\"sk-toggleable__control sk-hidden--visually\" id=\"sk-estimator-id-1\" type=\"checkbox\" checked><label for=\"sk-estimator-id-1\" class=\"sk-toggleable__label sk-toggleable__label-arrow\">MinMaxScaler</label><div class=\"sk-toggleable__content\"><pre>MinMaxScaler()</pre></div></div></div></div></div>"
      ],
      "text/plain": [
       "MinMaxScaler()"
      ]
     },
     "execution_count": 18,
     "metadata": {},
     "output_type": "execute_result"
    }
   ],
   "source": [
    "scaler.fit(train)"
   ]
  },
  {
   "cell_type": "code",
   "execution_count": 19,
   "id": "0ebb6ea4",
   "metadata": {},
   "outputs": [],
   "source": [
    "scaled_train=scaler.transform(train)"
   ]
  },
  {
   "cell_type": "code",
   "execution_count": 20,
   "id": "1417354c",
   "metadata": {},
   "outputs": [
    {
     "data": {
      "text/plain": [
       "array([[0.0014229 ],\n",
       "       [0.00137916],\n",
       "       [0.00142153],\n",
       "       [0.00136959],\n",
       "       [0.00133132]])"
      ]
     },
     "execution_count": 20,
     "metadata": {},
     "output_type": "execute_result"
    }
   ],
   "source": [
    "scaled_train[:5]"
   ]
  },
  {
   "cell_type": "code",
   "execution_count": 21,
   "id": "643ab25b",
   "metadata": {},
   "outputs": [
    {
     "data": {
      "text/plain": [
       "(0.9999999999999999, 0.0)"
      ]
     },
     "execution_count": 21,
     "metadata": {},
     "output_type": "execute_result"
    }
   ],
   "source": [
    "scaled_train.max(),scaled_train.min()"
   ]
  },
  {
   "cell_type": "code",
   "execution_count": 22,
   "id": "d9ca1e8e",
   "metadata": {},
   "outputs": [
    {
     "data": {
      "text/plain": [
       "(0.8082127958279645, 0.7825586829728582)"
      ]
     },
     "execution_count": 22,
     "metadata": {},
     "output_type": "execute_result"
    }
   ],
   "source": [
    "scaled_test=scaler.transform(test)\n",
    "\n",
    "scaled_test.max(),scaled_test.min()"
   ]
  },
  {
   "cell_type": "code",
   "execution_count": 23,
   "id": "610cdfac",
   "metadata": {},
   "outputs": [],
   "source": [
    "from keras.preprocessing.sequence import TimeseriesGenerator"
   ]
  },
  {
   "cell_type": "code",
   "execution_count": 78,
   "id": "f3a35948",
   "metadata": {},
   "outputs": [
    {
     "data": {
      "text/plain": [
       "array([[0.0014229 ],\n",
       "       [0.00137916],\n",
       "       [0.00142153],\n",
       "       [0.00136959],\n",
       "       [0.00133132]])"
      ]
     },
     "execution_count": 78,
     "metadata": {},
     "output_type": "execute_result"
    }
   ],
   "source": [
    "scaled_train[:5]"
   ]
  },
  {
   "cell_type": "code",
   "execution_count": 25,
   "id": "05133401",
   "metadata": {},
   "outputs": [],
   "source": [
    "n_input=2\n",
    "n_features=1"
   ]
  },
  {
   "cell_type": "code",
   "execution_count": 26,
   "id": "70473a0f",
   "metadata": {},
   "outputs": [],
   "source": [
    "generator=TimeseriesGenerator(scaled_train,scaled_train,length=n_input,batch_size=1)"
   ]
  },
  {
   "cell_type": "code",
   "execution_count": 27,
   "id": "cc1f5e9d",
   "metadata": {},
   "outputs": [
    {
     "data": {
      "text/plain": [
       "(array([[[0.0014229 ],\n",
       "         [0.00137916]]]),\n",
       " array([[0.00142153]]))"
      ]
     },
     "execution_count": 27,
     "metadata": {},
     "output_type": "execute_result"
    }
   ],
   "source": [
    "generator[0]"
   ]
  },
  {
   "cell_type": "code",
   "execution_count": 28,
   "id": "83999ea2",
   "metadata": {},
   "outputs": [],
   "source": [
    "X,y=generator[0]"
   ]
  },
  {
   "cell_type": "code",
   "execution_count": 29,
   "id": "c06c34d2",
   "metadata": {},
   "outputs": [
    {
     "data": {
      "text/plain": [
       "array([[[0.0014229 ],\n",
       "        [0.00137916]]])"
      ]
     },
     "execution_count": 29,
     "metadata": {},
     "output_type": "execute_result"
    }
   ],
   "source": [
    "X"
   ]
  },
  {
   "cell_type": "code",
   "execution_count": 30,
   "id": "e4ad1db4",
   "metadata": {},
   "outputs": [
    {
     "data": {
      "text/plain": [
       "array([[0.00142153]])"
      ]
     },
     "execution_count": 30,
     "metadata": {},
     "output_type": "execute_result"
    }
   ],
   "source": [
    "y"
   ]
  },
  {
   "cell_type": "code",
   "execution_count": 31,
   "id": "9df7e8bf",
   "metadata": {},
   "outputs": [
    {
     "data": {
      "text/plain": [
       "6988"
      ]
     },
     "execution_count": 31,
     "metadata": {},
     "output_type": "execute_result"
    }
   ],
   "source": [
    "len(scaled_train)"
   ]
  },
  {
   "cell_type": "code",
   "execution_count": 32,
   "id": "610c84f1",
   "metadata": {},
   "outputs": [
    {
     "data": {
      "text/plain": [
       "6986"
      ]
     },
     "execution_count": 32,
     "metadata": {},
     "output_type": "execute_result"
    }
   ],
   "source": [
    "len(generator)"
   ]
  },
  {
   "cell_type": "code",
   "execution_count": 33,
   "id": "795b510c",
   "metadata": {},
   "outputs": [],
   "source": [
    "from keras.models import Sequential\n",
    "from keras.layers import Dense\n",
    "from keras.layers import LSTM"
   ]
  },
  {
   "cell_type": "code",
   "execution_count": 34,
   "id": "ba04141d",
   "metadata": {},
   "outputs": [],
   "source": [
    "n_input=5\n",
    "n_features=1\n",
    "train_generator=TimeseriesGenerator(scaled_train,scaled_train,length=n_input,batch_size=1)"
   ]
  },
  {
   "cell_type": "code",
   "execution_count": 35,
   "id": "3efd8044",
   "metadata": {},
   "outputs": [
    {
     "data": {
      "text/plain": [
       "(1, 2, 1)"
      ]
     },
     "execution_count": 35,
     "metadata": {},
     "output_type": "execute_result"
    }
   ],
   "source": [
    "X.shape"
   ]
  },
  {
   "cell_type": "code",
   "execution_count": 36,
   "id": "569901a5",
   "metadata": {},
   "outputs": [],
   "source": [
    "# model=Sequential()\n",
    "\n",
    "# model.add(LSTM(150,activation='relu',input_shape=(n_input,n_features)))\n",
    "# model.add(Dense(1))\n",
    "# model.compile(optimizer='adam',loss='mse')"
   ]
  },
  {
   "cell_type": "code",
   "execution_count": 37,
   "id": "30a836b9",
   "metadata": {},
   "outputs": [],
   "source": [
    "model = tf.keras.models.Sequential([\n",
    "        tf.keras.layers.LSTM(100, input_shape = (n_input,n_features), return_sequences = True),\n",
    "        tf.keras.layers.LSTM(50, return_sequences = True),\n",
    "        tf.keras.layers.LSTM(10),\n",
    "        tf.keras.layers.Dense(64, activation ='relu'),\n",
    "        tf.keras.layers.Dense(32, activation ='relu'),\n",
    "        tf.keras.layers.Dense(1)\n",
    "])\n",
    "\n",
    "model.compile(optimizer='adam',loss='mse')"
   ]
  },
  {
   "cell_type": "code",
   "execution_count": 38,
   "id": "2fccbccc",
   "metadata": {},
   "outputs": [
    {
     "name": "stdout",
     "output_type": "stream",
     "text": [
      "Model: \"sequential\"\n",
      "_________________________________________________________________\n",
      " Layer (type)                Output Shape              Param #   \n",
      "=================================================================\n",
      " lstm (LSTM)                 (None, 5, 100)            40800     \n",
      "                                                                 \n",
      " lstm_1 (LSTM)               (None, 5, 50)             30200     \n",
      "                                                                 \n",
      " lstm_2 (LSTM)               (None, 10)                2440      \n",
      "                                                                 \n",
      " dense (Dense)               (None, 64)                704       \n",
      "                                                                 \n",
      " dense_1 (Dense)             (None, 32)                2080      \n",
      "                                                                 \n",
      " dense_2 (Dense)             (None, 1)                 33        \n",
      "                                                                 \n",
      "=================================================================\n",
      "Total params: 76,257\n",
      "Trainable params: 76,257\n",
      "Non-trainable params: 0\n",
      "_________________________________________________________________\n"
     ]
    }
   ],
   "source": [
    "model.summary()"
   ]
  },
  {
   "cell_type": "code",
   "execution_count": 39,
   "id": "7b5b3d3e",
   "metadata": {},
   "outputs": [
    {
     "data": {
      "text/plain": [
       "'C:\\\\Users\\\\losts\\\\Downloads\\\\Eduramp\\\\Day 5'"
      ]
     },
     "execution_count": 39,
     "metadata": {},
     "output_type": "execute_result"
    }
   ],
   "source": [
    "pwd"
   ]
  },
  {
   "cell_type": "code",
   "execution_count": 42,
   "id": "1655d420",
   "metadata": {},
   "outputs": [],
   "source": [
    "from keras.callbacks import EarlyStopping\n",
    "callback = EarlyStopping(monitor='loss', patience=5)\n",
    "\n",
    "\n",
    "from tensorflow.keras.callbacks import ModelCheckpoint\n",
    "checkpoint = ModelCheckpoint(\"C:\\\\Users\\\\losts\\\\Downloads\\\\Eduramp\\\\Day 5\\\\best_model.h5\", \n",
    "                             monitor = 'loss', save_best_only = True)"
   ]
  },
  {
   "cell_type": "code",
   "execution_count": 43,
   "id": "79219088",
   "metadata": {},
   "outputs": [
    {
     "name": "stdout",
     "output_type": "stream",
     "text": [
      "Epoch 1/10\n",
      "6983/6983 [==============================] - 62s 9ms/step - loss: 5.9105e-04\n",
      "Epoch 2/10\n",
      "6983/6983 [==============================] - 63s 9ms/step - loss: 4.5056e-04\n",
      "Epoch 3/10\n",
      "6983/6983 [==============================] - 62s 9ms/step - loss: 3.5769e-04\n",
      "Epoch 4/10\n",
      "6983/6983 [==============================] - 64s 9ms/step - loss: 3.0871e-04\n",
      "Epoch 5/10\n",
      "6983/6983 [==============================] - 63s 9ms/step - loss: 2.9424e-04\n",
      "Epoch 6/10\n",
      "6983/6983 [==============================] - 64s 9ms/step - loss: 2.4692e-04\n",
      "Epoch 7/10\n",
      "6983/6983 [==============================] - 74s 11ms/step - loss: 2.1953e-04\n",
      "Epoch 8/10\n",
      "6983/6983 [==============================] - 67s 10ms/step - loss: 1.9056e-04\n",
      "Epoch 9/10\n",
      "6983/6983 [==============================] - 66s 9ms/step - loss: 1.7315e-04\n",
      "Epoch 10/10\n",
      "6983/6983 [==============================] - 67s 10ms/step - loss: 1.7174e-04\n"
     ]
    },
    {
     "data": {
      "text/plain": [
       "<keras.callbacks.History at 0x23eb2133ac0>"
      ]
     },
     "execution_count": 43,
     "metadata": {},
     "output_type": "execute_result"
    }
   ],
   "source": [
    "model.fit(train_generator,epochs=10,callbacks=[callback])"
   ]
  },
  {
   "cell_type": "code",
   "execution_count": 44,
   "id": "643f6545",
   "metadata": {},
   "outputs": [
    {
     "data": {
      "text/plain": [
       "dict_keys(['loss'])"
      ]
     },
     "execution_count": 44,
     "metadata": {},
     "output_type": "execute_result"
    }
   ],
   "source": [
    "model.history.history.keys()"
   ]
  },
  {
   "cell_type": "code",
   "execution_count": 45,
   "id": "9c7f2cde",
   "metadata": {},
   "outputs": [
    {
     "data": {
      "text/plain": [
       "[0.0005910469917580485,\n",
       " 0.0004505579126998782,\n",
       " 0.0003576866292860359,\n",
       " 0.00030871262424625456,\n",
       " 0.00029423844534903765,\n",
       " 0.0002469180035404861,\n",
       " 0.0002195253036916256,\n",
       " 0.00019056448945775628,\n",
       " 0.0001731532101985067,\n",
       " 0.0001717357081361115]"
      ]
     },
     "execution_count": 45,
     "metadata": {},
     "output_type": "execute_result"
    }
   ],
   "source": [
    "model.history.history['loss']"
   ]
  },
  {
   "cell_type": "code",
   "execution_count": 46,
   "id": "8ff6fe83",
   "metadata": {},
   "outputs": [
    {
     "data": {
      "text/plain": [
       "[<matplotlib.lines.Line2D at 0x23ebfa33130>]"
      ]
     },
     "execution_count": 46,
     "metadata": {},
     "output_type": "execute_result"
    },
    {
     "data": {
      "image/png": "[encoded data removed]",
      "text/plain": [
       "<Figure size 640x480 with 1 Axes>"
      ]
     },
     "metadata": {},
     "output_type": "display_data"
    }
   ],
   "source": [
    "my_loss=model.history.history['loss']\n",
    "plt.plot(range(len(my_loss)),my_loss)"
   ]
  },
  {
   "cell_type": "code",
   "execution_count": 47,
   "id": "c63da066",
   "metadata": {},
   "outputs": [
    {
     "name": "stdout",
     "output_type": "stream",
     "text": [
      "[[0.82595155]\n",
      " [0.8240964 ]\n",
      " [0.82805404]\n",
      " [0.81701147]\n",
      " [0.81070393]]\n"
     ]
    }
   ],
   "source": [
    "first_eval_batch=scaled_train[-5:]\n",
    "print(first_eval_batch)"
   ]
  },
  {
   "cell_type": "code",
   "execution_count": 48,
   "id": "8f445047",
   "metadata": {},
   "outputs": [],
   "source": [
    "X_train,y_train=train_generator[0]"
   ]
  },
  {
   "cell_type": "code",
   "execution_count": 49,
   "id": "1f0ff113",
   "metadata": {},
   "outputs": [
    {
     "data": {
      "text/plain": [
       "(1, 5, 1)"
      ]
     },
     "execution_count": 49,
     "metadata": {},
     "output_type": "execute_result"
    }
   ],
   "source": [
    "X_train.shape"
   ]
  },
  {
   "cell_type": "code",
   "execution_count": 50,
   "id": "9e4674d0",
   "metadata": {},
   "outputs": [
    {
     "data": {
      "text/plain": [
       "(5, 1)"
      ]
     },
     "execution_count": 50,
     "metadata": {},
     "output_type": "execute_result"
    }
   ],
   "source": [
    "# so reshape the first_eval_batch with the same shape\n",
    "first_eval_batch.shape"
   ]
  },
  {
   "cell_type": "code",
   "execution_count": 51,
   "id": "b4a9fe70",
   "metadata": {},
   "outputs": [],
   "source": [
    "first_eval_batch=first_eval_batch.reshape(1,n_input,n_features)"
   ]
  },
  {
   "cell_type": "code",
   "execution_count": 52,
   "id": "f322d4fe",
   "metadata": {},
   "outputs": [
    {
     "data": {
      "text/plain": [
       "(1, 5, 1)"
      ]
     },
     "execution_count": 52,
     "metadata": {},
     "output_type": "execute_result"
    }
   ],
   "source": [
    "first_eval_batch.shape"
   ]
  },
  {
   "cell_type": "code",
   "execution_count": 53,
   "id": "531de22b",
   "metadata": {},
   "outputs": [
    {
     "name": "stdout",
     "output_type": "stream",
     "text": [
      "1/1 [==============================] - 1s 1s/step\n"
     ]
    },
    {
     "data": {
      "text/plain": [
       "array([[0.8046201]], dtype=float32)"
      ]
     },
     "execution_count": 53,
     "metadata": {},
     "output_type": "execute_result"
    }
   ],
   "source": [
    "model.predict(first_eval_batch)"
   ]
  },
  {
   "cell_type": "code",
   "execution_count": 54,
   "id": "33066008",
   "metadata": {},
   "outputs": [
    {
     "name": "stdout",
     "output_type": "stream",
     "text": [
      "1/1 [==============================] - 0s 22ms/step\n"
     ]
    },
    {
     "data": {
      "text/plain": [
       "array([0.8046201], dtype=float32)"
      ]
     },
     "execution_count": 54,
     "metadata": {},
     "output_type": "execute_result"
    }
   ],
   "source": [
    "model.predict(first_eval_batch)[0]"
   ]
  },
  {
   "cell_type": "markdown",
   "id": "48dc85c9",
   "metadata": {},
   "source": [
    "# Forecast the model with unknown data"
   ]
  },
  {
   "cell_type": "code",
   "execution_count": 55,
   "id": "3b7396ef",
   "metadata": {},
   "outputs": [
    {
     "data": {
      "text/plain": [
       "array([[[0.82595155],\n",
       "        [0.8240964 ],\n",
       "        [0.82805404],\n",
       "        [0.81701147],\n",
       "        [0.81070393]]])"
      ]
     },
     "execution_count": 55,
     "metadata": {},
     "output_type": "execute_result"
    }
   ],
   "source": [
    "first_eval_batch"
   ]
  },
  {
   "cell_type": "code",
   "execution_count": 56,
   "id": "210f597d",
   "metadata": {
    "scrolled": false
   },
   "outputs": [
    {
     "data": {
      "text/plain": [
       "array([[[0.8240964 ],\n",
       "        [0.82805404],\n",
       "        [0.81701147],\n",
       "        [0.81070393]]])"
      ]
     },
     "execution_count": 56,
     "metadata": {},
     "output_type": "execute_result"
    }
   ],
   "source": [
    "first_eval_batch[:,1:,:]"
   ]
  },
  {
   "cell_type": "code",
   "execution_count": 57,
   "id": "02ac4d45",
   "metadata": {},
   "outputs": [
    {
     "data": {
      "text/plain": [
       "(1, 4, 1)"
      ]
     },
     "execution_count": 57,
     "metadata": {},
     "output_type": "execute_result"
    }
   ],
   "source": [
    "first_eval_batch[:,1:,:].shape"
   ]
  },
  {
   "cell_type": "code",
   "execution_count": 58,
   "id": "99d9e37e",
   "metadata": {},
   "outputs": [
    {
     "name": "stdout",
     "output_type": "stream",
     "text": [
      "1/1 [==============================] - 0s 24ms/step\n"
     ]
    },
    {
     "data": {
      "text/plain": [
       "[[array([0.8046201], dtype=float32)]]"
      ]
     },
     "execution_count": 58,
     "metadata": {},
     "output_type": "execute_result"
    }
   ],
   "source": [
    "[[model.predict(first_eval_batch)[0]]]"
   ]
  },
  {
   "cell_type": "markdown",
   "id": "c5bffd29",
   "metadata": {},
   "source": [
    "**Since the shape update occurs at axis 1 i.e if we append predcted value in axis 1 then shape of first_eval_batch[:,1:,:] will become (1,12,1)**"
   ]
  },
  {
   "cell_type": "code",
   "execution_count": 59,
   "id": "7a4f2fa5",
   "metadata": {},
   "outputs": [
    {
     "data": {
      "text/plain": [
       "array([[[0.82595155],\n",
       "        [0.8240964 ],\n",
       "        [0.82805404],\n",
       "        [0.81701147],\n",
       "        [0.81070393]]])"
      ]
     },
     "execution_count": 59,
     "metadata": {},
     "output_type": "execute_result"
    }
   ],
   "source": [
    "my_pred=[]\n",
    "\n",
    "\n",
    "first_eval_batch=scaled_train[-n_input:]\n",
    "\n",
    "current_batch=first_eval_batch.reshape(1,n_input,n_features)\n",
    "current_batch"
   ]
  },
  {
   "cell_type": "code",
   "execution_count": 60,
   "id": "2d854d11",
   "metadata": {},
   "outputs": [
    {
     "name": "stdout",
     "output_type": "stream",
     "text": [
      "1/1 [==============================] - 0s 23ms/step\n"
     ]
    }
   ],
   "source": [
    "pred=model.predict(current_batch)[0]"
   ]
  },
  {
   "cell_type": "code",
   "execution_count": 61,
   "id": "ce61a4f5",
   "metadata": {},
   "outputs": [
    {
     "data": {
      "text/plain": [
       "array([0.8046201], dtype=float32)"
      ]
     },
     "execution_count": 61,
     "metadata": {},
     "output_type": "execute_result"
    }
   ],
   "source": [
    "pred"
   ]
  },
  {
   "cell_type": "code",
   "execution_count": 62,
   "id": "a2f14cd0",
   "metadata": {},
   "outputs": [
    {
     "data": {
      "text/plain": [
       "array([[[0.8240964 ],\n",
       "        [0.82805404],\n",
       "        [0.81701147],\n",
       "        [0.81070393],\n",
       "        [0.80462009]]])"
      ]
     },
     "execution_count": 62,
     "metadata": {},
     "output_type": "execute_result"
    }
   ],
   "source": [
    "current_batch=np.append(current_batch[:,1:,:],[[pred]],axis=1)\n",
    "current_batch"
   ]
  },
  {
   "cell_type": "code",
   "execution_count": 63,
   "id": "6e3daba1",
   "metadata": {},
   "outputs": [
    {
     "name": "stdout",
     "output_type": "stream",
     "text": [
      "1/1 [==============================] - 0s 23ms/step\n",
      "1/1 [==============================] - 0s 31ms/step\n",
      "1/1 [==============================] - 0s 28ms/step\n",
      "1/1 [==============================] - 0s 29ms/step\n",
      "1/1 [==============================] - 0s 32ms/step\n"
     ]
    }
   ],
   "source": [
    "my_pred=[]\n",
    "\n",
    "\n",
    "first_eval_batch=scaled_train[-n_input:]\n",
    "\n",
    "current_batch=first_eval_batch.reshape(1,n_input,n_features)\n",
    "\n",
    "for i in range(len(test)):\n",
    "    pred=model.predict(current_batch)[0]\n",
    "    my_pred.append(pred)\n",
    "    \n",
    "    current_batch=np.append(current_batch[:,1:,:],[[pred]],axis=1)"
   ]
  },
  {
   "cell_type": "code",
   "execution_count": 64,
   "id": "f88778c4",
   "metadata": {},
   "outputs": [
    {
     "data": {
      "text/plain": [
       "[array([0.8046201], dtype=float32),\n",
       " array([0.79772264], dtype=float32),\n",
       " array([0.79143864], dtype=float32),\n",
       " array([0.78533643], dtype=float32),\n",
       " array([0.77923775], dtype=float32)]"
      ]
     },
     "execution_count": 64,
     "metadata": {},
     "output_type": "execute_result"
    }
   ],
   "source": [
    "my_pred"
   ]
  },
  {
   "cell_type": "code",
   "execution_count": 65,
   "id": "8ce66feb",
   "metadata": {},
   "outputs": [
    {
     "data": {
      "text/plain": [
       "array([[2288.93287798],\n",
       "       [2269.41337599],\n",
       "       [2251.62991544],\n",
       "       [2234.36092499],\n",
       "       [2217.10188659]])"
      ]
     },
     "execution_count": 65,
     "metadata": {},
     "output_type": "execute_result"
    }
   ],
   "source": [
    "my_pred=scaler.inverse_transform(my_pred)\n",
    "my_pred"
   ]
  },
  {
   "cell_type": "code",
   "execution_count": 66,
   "id": "5e61e8e8",
   "metadata": {},
   "outputs": [
    {
     "data": {
      "text/html": [
       "<div>\n",
       "<style scoped>\n",
       "    .dataframe tbody tr th:only-of-type {\n",
       "        vertical-align: middle;\n",
       "    }\n",
       "\n",
       "    .dataframe tbody tr th {\n",
       "        vertical-align: top;\n",
       "    }\n",
       "\n",
       "    .dataframe thead th {\n",
       "        text-align: right;\n",
       "    }\n",
       "</style>\n",
       "<table border=\"1\" class=\"dataframe\">\n",
       "  <thead>\n",
       "    <tr style=\"text-align: right;\">\n",
       "      <th></th>\n",
       "      <th>Close</th>\n",
       "    </tr>\n",
       "    <tr>\n",
       "      <th>Date</th>\n",
       "      <th></th>\n",
       "    </tr>\n",
       "  </thead>\n",
       "  <tbody>\n",
       "    <tr>\n",
       "      <th>2023-10-20</th>\n",
       "      <td>2299.100098</td>\n",
       "    </tr>\n",
       "    <tr>\n",
       "      <th>2023-10-23</th>\n",
       "      <td>2263.199951</td>\n",
       "    </tr>\n",
       "    <tr>\n",
       "      <th>2023-10-25</th>\n",
       "      <td>2257.949951</td>\n",
       "    </tr>\n",
       "    <tr>\n",
       "      <th>2023-10-26</th>\n",
       "      <td>2226.500000</td>\n",
       "    </tr>\n",
       "    <tr>\n",
       "      <th>2023-10-27</th>\n",
       "      <td>2265.800049</td>\n",
       "    </tr>\n",
       "  </tbody>\n",
       "</table>\n",
       "</div>"
      ],
      "text/plain": [
       "                  Close\n",
       "Date                   \n",
       "2023-10-20  2299.100098\n",
       "2023-10-23  2263.199951\n",
       "2023-10-25  2257.949951\n",
       "2023-10-26  2226.500000\n",
       "2023-10-27  2265.800049"
      ]
     },
     "execution_count": 66,
     "metadata": {},
     "output_type": "execute_result"
    }
   ],
   "source": [
    "test"
   ]
  },
  {
   "cell_type": "code",
   "execution_count": 67,
   "id": "02386bff",
   "metadata": {
    "scrolled": true
   },
   "outputs": [
    {
     "name": "stderr",
     "output_type": "stream",
     "text": [
      "C:\\Users\\losts\\AppData\\Local\\Temp\\ipykernel_18672\\706281454.py:1: SettingWithCopyWarning: \n",
      "A value is trying to be set on a copy of a slice from a DataFrame.\n",
      "Try using .loc[row_indexer,col_indexer] = value instead\n",
      "\n",
      "See the caveats in the documentation: https://pandas.pydata.org/pandas-docs/stable/user_guide/indexing.html#returning-a-view-versus-a-copy\n",
      "  test['Prediction']=my_pred\n"
     ]
    },
    {
     "data": {
      "text/html": [
       "<div>\n",
       "<style scoped>\n",
       "    .dataframe tbody tr th:only-of-type {\n",
       "        vertical-align: middle;\n",
       "    }\n",
       "\n",
       "    .dataframe tbody tr th {\n",
       "        vertical-align: top;\n",
       "    }\n",
       "\n",
       "    .dataframe thead th {\n",
       "        text-align: right;\n",
       "    }\n",
       "</style>\n",
       "<table border=\"1\" class=\"dataframe\">\n",
       "  <thead>\n",
       "    <tr style=\"text-align: right;\">\n",
       "      <th></th>\n",
       "      <th>Close</th>\n",
       "      <th>Prediction</th>\n",
       "    </tr>\n",
       "    <tr>\n",
       "      <th>Date</th>\n",
       "      <th></th>\n",
       "      <th></th>\n",
       "    </tr>\n",
       "  </thead>\n",
       "  <tbody>\n",
       "    <tr>\n",
       "      <th>2023-10-20</th>\n",
       "      <td>2299.100098</td>\n",
       "      <td>2288.932878</td>\n",
       "    </tr>\n",
       "    <tr>\n",
       "      <th>2023-10-23</th>\n",
       "      <td>2263.199951</td>\n",
       "      <td>2269.413376</td>\n",
       "    </tr>\n",
       "    <tr>\n",
       "      <th>2023-10-25</th>\n",
       "      <td>2257.949951</td>\n",
       "      <td>2251.629915</td>\n",
       "    </tr>\n",
       "    <tr>\n",
       "      <th>2023-10-26</th>\n",
       "      <td>2226.500000</td>\n",
       "      <td>2234.360925</td>\n",
       "    </tr>\n",
       "    <tr>\n",
       "      <th>2023-10-27</th>\n",
       "      <td>2265.800049</td>\n",
       "      <td>2217.101887</td>\n",
       "    </tr>\n",
       "  </tbody>\n",
       "</table>\n",
       "</div>"
      ],
      "text/plain": [
       "                  Close   Prediction\n",
       "Date                                \n",
       "2023-10-20  2299.100098  2288.932878\n",
       "2023-10-23  2263.199951  2269.413376\n",
       "2023-10-25  2257.949951  2251.629915\n",
       "2023-10-26  2226.500000  2234.360925\n",
       "2023-10-27  2265.800049  2217.101887"
      ]
     },
     "execution_count": 67,
     "metadata": {},
     "output_type": "execute_result"
    }
   ],
   "source": [
    "test['Prediction']=my_pred\n",
    "test"
   ]
  },
  {
   "cell_type": "code",
   "execution_count": 68,
   "id": "ff37c30e",
   "metadata": {},
   "outputs": [
    {
     "data": {
      "image/png": "[encoded data removed]",
      "text/plain": [
       "<Figure size 1200x800 with 1 Axes>"
      ]
     },
     "metadata": {},
     "output_type": "display_data"
    }
   ],
   "source": [
    "test.plot(figsize=(12,8))\n",
    "plt.show()"
   ]
  },
  {
   "cell_type": "code",
   "execution_count": 69,
   "id": "d925a257",
   "metadata": {},
   "outputs": [],
   "source": [
    "# test.columns=['Close','Predictions','%error']"
   ]
  },
  {
   "cell_type": "code",
   "execution_count": 70,
   "id": "4fc2217b",
   "metadata": {},
   "outputs": [
    {
     "name": "stderr",
     "output_type": "stream",
     "text": [
      "C:\\Users\\losts\\AppData\\Local\\Temp\\ipykernel_18672\\957453904.py:1: SettingWithCopyWarning: \n",
      "A value is trying to be set on a copy of a slice from a DataFrame.\n",
      "Try using .loc[row_indexer,col_indexer] = value instead\n",
      "\n",
      "See the caveats in the documentation: https://pandas.pydata.org/pandas-docs/stable/user_guide/indexing.html#returning-a-view-versus-a-copy\n",
      "  test['%error']=np.round((test['Close']-test['Prediction'])*100/test['Close'],2)\n"
     ]
    }
   ],
   "source": [
    "test['%error']=np.round((test['Close']-test['Prediction'])*100/test['Close'],2)"
   ]
  },
  {
   "cell_type": "code",
   "execution_count": 71,
   "id": "2217d6e3",
   "metadata": {},
   "outputs": [
    {
     "data": {
      "text/html": [
       "<div>\n",
       "<style scoped>\n",
       "    .dataframe tbody tr th:only-of-type {\n",
       "        vertical-align: middle;\n",
       "    }\n",
       "\n",
       "    .dataframe tbody tr th {\n",
       "        vertical-align: top;\n",
       "    }\n",
       "\n",
       "    .dataframe thead th {\n",
       "        text-align: right;\n",
       "    }\n",
       "</style>\n",
       "<table border=\"1\" class=\"dataframe\">\n",
       "  <thead>\n",
       "    <tr style=\"text-align: right;\">\n",
       "      <th></th>\n",
       "      <th>Close</th>\n",
       "      <th>Prediction</th>\n",
       "      <th>%error</th>\n",
       "    </tr>\n",
       "    <tr>\n",
       "      <th>Date</th>\n",
       "      <th></th>\n",
       "      <th></th>\n",
       "      <th></th>\n",
       "    </tr>\n",
       "  </thead>\n",
       "  <tbody>\n",
       "    <tr>\n",
       "      <th>2023-10-20</th>\n",
       "      <td>2299.100098</td>\n",
       "      <td>2288.932878</td>\n",
       "      <td>0.44</td>\n",
       "    </tr>\n",
       "    <tr>\n",
       "      <th>2023-10-23</th>\n",
       "      <td>2263.199951</td>\n",
       "      <td>2269.413376</td>\n",
       "      <td>-0.27</td>\n",
       "    </tr>\n",
       "    <tr>\n",
       "      <th>2023-10-25</th>\n",
       "      <td>2257.949951</td>\n",
       "      <td>2251.629915</td>\n",
       "      <td>0.28</td>\n",
       "    </tr>\n",
       "    <tr>\n",
       "      <th>2023-10-26</th>\n",
       "      <td>2226.500000</td>\n",
       "      <td>2234.360925</td>\n",
       "      <td>-0.35</td>\n",
       "    </tr>\n",
       "    <tr>\n",
       "      <th>2023-10-27</th>\n",
       "      <td>2265.800049</td>\n",
       "      <td>2217.101887</td>\n",
       "      <td>2.15</td>\n",
       "    </tr>\n",
       "  </tbody>\n",
       "</table>\n",
       "</div>"
      ],
      "text/plain": [
       "                  Close   Prediction  %error\n",
       "Date                                        \n",
       "2023-10-20  2299.100098  2288.932878    0.44\n",
       "2023-10-23  2263.199951  2269.413376   -0.27\n",
       "2023-10-25  2257.949951  2251.629915    0.28\n",
       "2023-10-26  2226.500000  2234.360925   -0.35\n",
       "2023-10-27  2265.800049  2217.101887    2.15"
      ]
     },
     "execution_count": 71,
     "metadata": {},
     "output_type": "execute_result"
    }
   ],
   "source": [
    "test"
   ]
  },
  {
   "cell_type": "code",
   "execution_count": null,
   "id": "ec68b36c",
   "metadata": {},
   "outputs": [],
   "source": []
  },
  {
   "cell_type": "code",
   "execution_count": null,
   "id": "9a56c049",
   "metadata": {},
   "outputs": [],
   "source": []
  },
  {
   "cell_type": "code",
   "execution_count": null,
   "id": "f5b03797",
   "metadata": {},
   "outputs": [],
   "source": []
  },
  {
   "cell_type": "code",
   "execution_count": null,
   "id": "d8ab48ef",
   "metadata": {},
   "outputs": [],
   "source": []
  },
  {
   "cell_type": "code",
   "execution_count": null,
   "id": "f6293ee5",
   "metadata": {},
   "outputs": [],
   "source": []
  },
  {
   "cell_type": "code",
   "execution_count": null,
   "id": "ea57ebd3",
   "metadata": {},
   "outputs": [],
   "source": []
  },
  {
   "cell_type": "code",
   "execution_count": null,
   "id": "1d05b5a7",
   "metadata": {},
   "outputs": [],
   "source": []
  },
  {
   "cell_type": "code",
   "execution_count": null,
   "id": "b0dc4b8e",
   "metadata": {},
   "outputs": [],
   "source": []
  },
  {
   "cell_type": "code",
   "execution_count": null,
   "id": "323944b1",
   "metadata": {},
   "outputs": [],
   "source": []
  },
  {
   "cell_type": "code",
   "execution_count": null,
   "id": "f7ea7d90",
   "metadata": {},
   "outputs": [],
   "source": []
  },
  {
   "cell_type": "code",
   "execution_count": null,
   "id": "94f0fbbf",
   "metadata": {},
   "outputs": [],
   "source": []
  },
  {
   "cell_type": "code",
   "execution_count": null,
   "id": "cbc4f1dc",
   "metadata": {},
   "outputs": [],
   "source": []
  },
  {
   "cell_type": "code",
   "execution_count": null,
   "id": "e6be1aed",
   "metadata": {},
   "outputs": [],
   "source": []
  },
  {
   "cell_type": "code",
   "execution_count": null,
   "id": "3395b2bb",
   "metadata": {},
   "outputs": [],
   "source": []
  },
  {
   "cell_type": "code",
   "execution_count": null,
   "id": "69b4819d",
   "metadata": {},
   "outputs": [],
   "source": []
  },
  {
   "cell_type": "code",
   "execution_count": null,
   "id": "e940768e",
   "metadata": {},
   "outputs": [],
   "source": []
  },
  {
   "cell_type": "code",
   "execution_count": null,
   "id": "d8b4b70f",
   "metadata": {},
   "outputs": [],
   "source": []
  },
  {
   "cell_type": "code",
   "execution_count": null,
   "id": "f7e580ce",
   "metadata": {},
   "outputs": [],
   "source": []
  },
  {
   "cell_type": "code",
   "execution_count": null,
   "id": "c5138fac",
   "metadata": {},
   "outputs": [],
   "source": []
  },
  {
   "cell_type": "code",
   "execution_count": null,
   "id": "6a09fc52",
   "metadata": {},
   "outputs": [],
   "source": []
  },
  {
   "cell_type": "code",
   "execution_count": null,
   "id": "a90bcb00",
   "metadata": {},
   "outputs": [],
   "source": []
  },
  {
   "cell_type": "code",
   "execution_count": null,
   "id": "b2f4d342",
   "metadata": {},
   "outputs": [],
   "source": []
  },
  {
   "cell_type": "code",
   "execution_count": null,
   "id": "2a739d0e",
   "metadata": {},
   "outputs": [],
   "source": [
    "model.save('lstm.h5')"
   ]
  },
  {
   "cell_type": "code",
   "execution_count": null,
   "id": "771bd249",
   "metadata": {},
   "outputs": [],
   "source": [
    "from keras.models import load_model\n",
    "new_model=load_model('lstm.h5')"
   ]
  },
  {
   "cell_type": "code",
   "execution_count": null,
   "id": "a4478355",
   "metadata": {},
   "outputs": [],
   "source": [
    "new_model.summary()"
   ]
  },
  {
   "cell_type": "code",
   "execution_count": null,
   "id": "e9c21717",
   "metadata": {},
   "outputs": [],
   "source": []
  }
 ],
 "metadata": {
  "kernelspec": {
   "display_name": "Python 3 (ipykernel)",
   "language": "python",
   "name": "python3"
  },
  "language_info": {
   "codemirror_mode": {
    "name": "ipython",
    "version": 3
   },
   "file_extension": ".py",
   "mimetype": "text/x-python",
   "name": "python",
   "nbconvert_exporter": "python",
   "pygments_lexer": "ipython3",
   "version": "3.10.9"
  }
 },
 "nbformat": 4,
 "nbformat_minor": 5
}
